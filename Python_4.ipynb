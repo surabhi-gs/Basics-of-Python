{
  "nbformat": 4,
  "nbformat_minor": 0,
  "metadata": {
    "colab": {
      "name": "Python 4.ipynb",
      "provenance": [],
      "collapsed_sections": []
    },
    "kernelspec": {
      "name": "python3",
      "display_name": "Python 3"
    },
    "language_info": {
      "name": "python"
    }
  },
  "cells": [
    {
      "cell_type": "code",
      "execution_count": null,
      "metadata": {
        "id": "L494mGpBdVkd"
      },
      "outputs": [],
      "source": [
        "Name=\"Surabhi Sawaleshwarkar\"\n",
        "Roll.No.=\"9130\""
      ]
    },
    {
      "cell_type": "code",
      "source": [
        "a=\"Shivani\"\n",
        "b=\"Surabhi\"\n",
        "c=[\"Yash\",\"Himanshu\"]\n",
        "print(a)\n",
        "print(b)\n",
        "print(c)\n",
        "print(type(a))\n",
        "print(type(b))\n",
        "print(type(c))"
      ],
      "metadata": {
        "colab": {
          "base_uri": "https://localhost:8080/"
        },
        "id": "qp8O0MhKdeeF",
        "outputId": "86b939a4-8528-4821-d402-43ee47fb0208"
      },
      "execution_count": null,
      "outputs": [
        {
          "output_type": "stream",
          "name": "stdout",
          "text": [
            "Shivani\n",
            "Surabhi\n",
            "['Yash', 'Himanshu']\n",
            "<class 'str'>\n",
            "<class 'str'>\n",
            "<class 'list'>\n"
          ]
        }
      ]
    },
    {
      "cell_type": "code",
      "source": [
        "s=['a','b','c','d','e','f']\n",
        "print(s[:3])\n",
        "print(s[2:])"
      ],
      "metadata": {
        "colab": {
          "base_uri": "https://localhost:8080/"
        },
        "id": "C-WNEpAYe6dA",
        "outputId": "2aa365f8-96be-4f27-f2ac-24eba0455c8f"
      },
      "execution_count": null,
      "outputs": [
        {
          "output_type": "stream",
          "name": "stdout",
          "text": [
            "['a', 'b', 'c']\n",
            "['c', 'd', 'e', 'f']\n"
          ]
        }
      ]
    },
    {
      "cell_type": "code",
      "source": [
        "#Change item in list\n",
        "print(s)\n",
        "s['d']='j'\n",
        "print(s)"
      ],
      "metadata": {
        "colab": {
          "base_uri": "https://localhost:8080/",
          "height": 235
        },
        "id": "W2xbq22qgC5Z",
        "outputId": "4b0b6e42-dd04-4c4e-a1c2-bb5d95613201"
      },
      "execution_count": null,
      "outputs": [
        {
          "output_type": "stream",
          "name": "stdout",
          "text": [
            "['a', 'b', 'c', 'd', 'e', 'f']\n"
          ]
        },
        {
          "output_type": "error",
          "ename": "TypeError",
          "evalue": "ignored",
          "traceback": [
            "\u001b[0;31m---------------------------------------------------------------------------\u001b[0m",
            "\u001b[0;31mTypeError\u001b[0m                                 Traceback (most recent call last)",
            "\u001b[0;32m<ipython-input-9-c73f20c58f74>\u001b[0m in \u001b[0;36m<module>\u001b[0;34m()\u001b[0m\n\u001b[1;32m      1\u001b[0m \u001b[0;31m#Change item in list\u001b[0m\u001b[0;34m\u001b[0m\u001b[0;34m\u001b[0m\u001b[0;34m\u001b[0m\u001b[0m\n\u001b[1;32m      2\u001b[0m \u001b[0mprint\u001b[0m\u001b[0;34m(\u001b[0m\u001b[0ms\u001b[0m\u001b[0;34m)\u001b[0m\u001b[0;34m\u001b[0m\u001b[0;34m\u001b[0m\u001b[0m\n\u001b[0;32m----> 3\u001b[0;31m \u001b[0ms\u001b[0m\u001b[0;34m[\u001b[0m\u001b[0;34m'd'\u001b[0m\u001b[0;34m]\u001b[0m\u001b[0;34m=\u001b[0m\u001b[0;34m'j'\u001b[0m\u001b[0;34m\u001b[0m\u001b[0;34m\u001b[0m\u001b[0m\n\u001b[0m\u001b[1;32m      4\u001b[0m \u001b[0mprint\u001b[0m\u001b[0;34m(\u001b[0m\u001b[0ms\u001b[0m\u001b[0;34m)\u001b[0m\u001b[0;34m\u001b[0m\u001b[0;34m\u001b[0m\u001b[0m\n",
            "\u001b[0;31mTypeError\u001b[0m: list indices must be integers or slices, not str"
          ]
        }
      ]
    },
    {
      "cell_type": "code",
      "source": [
        "#copy(): Returns copy of list\n",
        "names=['Surabhi','Shivani','Himanshu','Yash']\n",
        "names1=names.copy()\n",
        "print(names1)"
      ],
      "metadata": {
        "colab": {
          "base_uri": "https://localhost:8080/"
        },
        "id": "CoaoEKjTiJRH",
        "outputId": "08020438-9d32-4c3a-8345-bab0be1e5c74"
      },
      "execution_count": null,
      "outputs": [
        {
          "output_type": "stream",
          "name": "stdout",
          "text": [
            "['Surabhi', 'Shivani', 'Himanshu', 'Yash']\n"
          ]
        }
      ]
    },
    {
      "cell_type": "code",
      "source": [
        "#count(): Returns the number of elements with thr specified value\n",
        "names.append('Surabhi')\n",
        "x=names.count('Surabhi')\n",
        "print(x)\n"
      ],
      "metadata": {
        "colab": {
          "base_uri": "https://localhost:8080/"
        },
        "id": "hzDjyVzKhX_x",
        "outputId": "6eb22f78-96ad-4ee2-9a76-1f3868a566cc"
      },
      "execution_count": null,
      "outputs": [
        {
          "output_type": "stream",
          "name": "stdout",
          "text": [
            "2\n"
          ]
        }
      ]
    },
    {
      "cell_type": "code",
      "source": [
        "#Looping through lists\n",
        "for j in s:\n",
        "  print(j)"
      ],
      "metadata": {
        "colab": {
          "base_uri": "https://localhost:8080/"
        },
        "id": "Eyzg5HPZf1jx",
        "outputId": "6e768afc-41e7-43aa-db6b-450315d43d0b"
      },
      "execution_count": null,
      "outputs": [
        {
          "output_type": "stream",
          "name": "stdout",
          "text": [
            "a\n",
            "b\n",
            "c\n",
            "d\n",
            "e\n",
            "f\n"
          ]
        }
      ]
    },
    {
      "cell_type": "code",
      "source": [
        "#del: Delete list\n",
        "print(names1)\n",
        "del names1\n",
        "print(names1)"
      ],
      "metadata": {
        "colab": {
          "base_uri": "https://localhost:8080/",
          "height": 218
        },
        "id": "cWbCwouWhAPR",
        "outputId": "7bbd2924-b509-4ed5-8edc-cde1a290358d"
      },
      "execution_count": null,
      "outputs": [
        {
          "output_type": "stream",
          "name": "stdout",
          "text": [
            "['Surabhi', 'Shivani', 'Himanshu', 'Yash']\n"
          ]
        },
        {
          "output_type": "error",
          "ename": "NameError",
          "evalue": "ignored",
          "traceback": [
            "\u001b[0;31m---------------------------------------------------------------------------\u001b[0m",
            "\u001b[0;31mNameError\u001b[0m                                 Traceback (most recent call last)",
            "\u001b[0;32m<ipython-input-13-ae749a97df92>\u001b[0m in \u001b[0;36m<module>\u001b[0;34m()\u001b[0m\n\u001b[1;32m      2\u001b[0m \u001b[0mprint\u001b[0m\u001b[0;34m(\u001b[0m\u001b[0mnames1\u001b[0m\u001b[0;34m)\u001b[0m\u001b[0;34m\u001b[0m\u001b[0;34m\u001b[0m\u001b[0m\n\u001b[1;32m      3\u001b[0m \u001b[0;32mdel\u001b[0m \u001b[0mnames1\u001b[0m\u001b[0;34m\u001b[0m\u001b[0;34m\u001b[0m\u001b[0m\n\u001b[0;32m----> 4\u001b[0;31m \u001b[0mprint\u001b[0m\u001b[0;34m(\u001b[0m\u001b[0mnames1\u001b[0m\u001b[0;34m)\u001b[0m\u001b[0;34m\u001b[0m\u001b[0;34m\u001b[0m\u001b[0m\n\u001b[0m",
            "\u001b[0;31mNameError\u001b[0m: name 'names1' is not defined"
          ]
        }
      ]
    },
    {
      "cell_type": "code",
      "source": [
        "#extend(): Add elements of a list (or any iterable)\n",
        "#to the end of current list\n",
        "names=['Surabhi','Shivani','Himanshu','Yash']\n",
        "cars=['Range Rover','Ford','BMW','Suzuki']\n",
        "names.extend(cars)\n",
        "print(names)"
      ],
      "metadata": {
        "colab": {
          "base_uri": "https://localhost:8080/"
        },
        "id": "oaQRChVijcEN",
        "outputId": "9d962c2f-ecd8-4000-baa6-68e6cd3397f5"
      },
      "execution_count": null,
      "outputs": [
        {
          "output_type": "stream",
          "name": "stdout",
          "text": [
            "['Surabhi', 'Shivani', 'Himanshu', 'Yash', 'Range Rover', 'Ford', 'BMW', 'Suzuki']\n"
          ]
        }
      ]
    },
    {
      "cell_type": "code",
      "source": [
        "#index(): Returns the index of the first element with the specified value\n",
        "names.index('Range Rover')"
      ],
      "metadata": {
        "colab": {
          "base_uri": "https://localhost:8080/"
        },
        "id": "P56BVzy9kapP",
        "outputId": "10fdae37-259c-437a-c5d7-272338814078"
      },
      "execution_count": null,
      "outputs": [
        {
          "output_type": "execute_result",
          "data": {
            "text/plain": [
              "4"
            ]
          },
          "metadata": {},
          "execution_count": 15
        }
      ]
    },
    {
      "cell_type": "code",
      "source": [
        "#sort(): Sorts the list\n",
        "names.sort()\n",
        "print(names)"
      ],
      "metadata": {
        "colab": {
          "base_uri": "https://localhost:8080/"
        },
        "id": "jXvoj64Olo1B",
        "outputId": "8cbc19f0-49c8-4b3c-a798-8ae3601a6141"
      },
      "execution_count": null,
      "outputs": [
        {
          "output_type": "stream",
          "name": "stdout",
          "text": [
            "['BMW', 'Ford', 'Himanshu', 'Range Rover', 'Shivani', 'Surabhi', 'Suzuki', 'Yash']\n"
          ]
        }
      ]
    },
    {
      "cell_type": "code",
      "source": [
        "#Tuples\n",
        "t1=(1,5,8,3,10,2)\n",
        "t2=('Surabhi','Shivani','Himanshu','Yash')\n",
        "print(t1,\"/n\")\n",
        "print(t2)\n",
        "print(type(t1))"
      ],
      "metadata": {
        "colab": {
          "base_uri": "https://localhost:8080/"
        },
        "id": "KxvZFdnOmZuQ",
        "outputId": "84a5727a-f8bc-4696-8a7f-651f01f0e5ed"
      },
      "execution_count": null,
      "outputs": [
        {
          "output_type": "stream",
          "name": "stdout",
          "text": [
            "(1, 5, 8, 3, 10, 2) /n\n",
            "('Surabhi', 'Shivani', 'Himanshu', 'Yash')\n",
            "<class 'tuple'>\n"
          ]
        }
      ]
    },
    {
      "cell_type": "code",
      "source": [
        "#Negative Index\n",
        "print(t1[-2])\n",
        "print(t2[-4])"
      ],
      "metadata": {
        "colab": {
          "base_uri": "https://localhost:8080/"
        },
        "id": "B-CnfM0Ar_pz",
        "outputId": "935d4764-2652-41b0-8051-686a49cfd0b6"
      },
      "execution_count": null,
      "outputs": [
        {
          "output_type": "stream",
          "name": "stdout",
          "text": [
            "10\n",
            "Surabhi\n"
          ]
        }
      ]
    },
    {
      "cell_type": "code",
      "source": [
        "#Dictionary\n",
        "d1={\"Name\":\"Surabhi\",\"Class\":'TYBSc','Roll No.':9130,\"Result\":\"Pass\"}\n",
        "print(d1)"
      ],
      "metadata": {
        "id": "u68BgNDvsViv",
        "colab": {
          "base_uri": "https://localhost:8080/"
        },
        "outputId": "18cd9f18-3d47-4f1f-a9e2-465e3d9b86fa"
      },
      "execution_count": 1,
      "outputs": [
        {
          "output_type": "stream",
          "name": "stdout",
          "text": [
            "{'Name': 'Surabhi', 'Class': 'TYBSc', 'Roll No.': 9130, 'Result': 'Pass'}\n"
          ]
        }
      ]
    },
    {
      "cell_type": "code",
      "source": [
        "#Accessing items\n",
        "print(d1[\"Class\"])\n",
        "print(d1[\"Name\"])"
      ],
      "metadata": {
        "colab": {
          "base_uri": "https://localhost:8080/"
        },
        "id": "ytFGK7djl48q",
        "outputId": "b92e3e56-7cb5-40f3-d09c-83c46b2c79a4"
      },
      "execution_count": 2,
      "outputs": [
        {
          "output_type": "stream",
          "name": "stdout",
          "text": [
            "TYBSc\n",
            "Surabhi\n"
          ]
        }
      ]
    },
    {
      "cell_type": "code",
      "source": [
        "#Change values\n",
        "d1[\"Name\"]=\"Shivani\"\n",
        "print(d1)"
      ],
      "metadata": {
        "colab": {
          "base_uri": "https://localhost:8080/"
        },
        "id": "UroLgiTxl8Jc",
        "outputId": "a1b33724-5548-4049-d6dc-ac70ebc8bb55"
      },
      "execution_count": 3,
      "outputs": [
        {
          "output_type": "stream",
          "name": "stdout",
          "text": [
            "{'Name': 'Shivani', 'Class': 'TYBSc', 'Roll No.': 9130, 'Result': 'Pass'}\n"
          ]
        }
      ]
    },
    {
      "cell_type": "code",
      "source": [
        "#Looping through a dictionary\n",
        "for j in d1:\n",
        "  print(j)"
      ],
      "metadata": {
        "colab": {
          "base_uri": "https://localhost:8080/"
        },
        "id": "wH9tXcfSl-Zr",
        "outputId": "2b0fb325-007f-474a-cb42-8b695c84bf96"
      },
      "execution_count": 4,
      "outputs": [
        {
          "output_type": "stream",
          "name": "stdout",
          "text": [
            "Name\n",
            "Class\n",
            "Roll No.\n",
            "Result\n"
          ]
        }
      ]
    },
    {
      "cell_type": "code",
      "source": [
        "#Extract keys\n",
        "d1.keys()"
      ],
      "metadata": {
        "colab": {
          "base_uri": "https://localhost:8080/"
        },
        "id": "mCIqy2NMl_L9",
        "outputId": "6590dcb3-c72d-4f2c-a1f2-d3fa70f7fbe4"
      },
      "execution_count": 5,
      "outputs": [
        {
          "output_type": "execute_result",
          "data": {
            "text/plain": [
              "dict_keys(['Name', 'Class', 'Roll No.', 'Result'])"
            ]
          },
          "metadata": {},
          "execution_count": 5
        }
      ]
    },
    {
      "cell_type": "code",
      "source": [
        "#Extract values\n",
        "d1.values()"
      ],
      "metadata": {
        "colab": {
          "base_uri": "https://localhost:8080/"
        },
        "id": "gWI5USSQmAzu",
        "outputId": "23e8fda8-981b-47b6-a44d-251255254878"
      },
      "execution_count": 6,
      "outputs": [
        {
          "output_type": "execute_result",
          "data": {
            "text/plain": [
              "dict_values(['Shivani', 'TYBSc', 9130, 'Pass'])"
            ]
          },
          "metadata": {},
          "execution_count": 6
        }
      ]
    },
    {
      "cell_type": "code",
      "source": [
        "#Extract keys and values both\n",
        "d1.items()"
      ],
      "metadata": {
        "colab": {
          "base_uri": "https://localhost:8080/"
        },
        "id": "4StTHDCAmhZc",
        "outputId": "52c52e34-1ffd-4ab2-dca1-d23fc2a8d49c"
      },
      "execution_count": 7,
      "outputs": [
        {
          "output_type": "execute_result",
          "data": {
            "text/plain": [
              "dict_items([('Name', 'Shivani'), ('Class', 'TYBSc'), ('Roll No.', 9130), ('Result', 'Pass')])"
            ]
          },
          "metadata": {},
          "execution_count": 7
        }
      ]
    },
    {
      "cell_type": "code",
      "source": [
        "for k,v in d1.items():\n",
        "  print(k,v)"
      ],
      "metadata": {
        "colab": {
          "base_uri": "https://localhost:8080/"
        },
        "id": "NjasZmgLmiBn",
        "outputId": "94254540-f6ed-44d4-e9dd-fe0b4da2445e"
      },
      "execution_count": 8,
      "outputs": [
        {
          "output_type": "stream",
          "name": "stdout",
          "text": [
            "Name Shivani\n",
            "Class TYBSc\n",
            "Roll No. 9130\n",
            "Result Pass\n"
          ]
        }
      ]
    },
    {
      "cell_type": "code",
      "source": [
        "#Nested dictionary\n",
        "myfamily = {\n",
        "    \"child1\" : {\n",
        "       \"name\":\"A\",\n",
        "       \"year\":\"1999\"\n",
        "    },\n",
        "    \"child2\" : {\n",
        "       \"name\":\"B\",\n",
        "       \"year\":\"2001\"\n",
        "    },\n",
        "    \"child3\" : {\n",
        "       \"name\":\"C\",\n",
        "       \"year\":\"2003\"\n",
        "    }\n",
        "}\n",
        "print(myfamily)"
      ],
      "metadata": {
        "colab": {
          "base_uri": "https://localhost:8080/"
        },
        "id": "vIKZ1SYKmjpE",
        "outputId": "57f8d2ec-e85b-479a-8346-a68598f87f37"
      },
      "execution_count": 9,
      "outputs": [
        {
          "output_type": "stream",
          "name": "stdout",
          "text": [
            "{'child1': {'name': 'A', 'year': '1999'}, 'child2': {'name': 'B', 'year': '2001'}, 'child3': {'name': 'C', 'year': '2003'}}\n"
          ]
        }
      ]
    },
    {
      "cell_type": "code",
      "source": [
        "#Sets\n",
        "set1={1,2,3,4,5,6,7,8}\n",
        "print(set1)\n",
        "set2={\"A\",\"B\",\"C\",\"D\",\"E\",\"F\",\"G\",\"H\"}\n",
        "print(set2)"
      ],
      "metadata": {
        "colab": {
          "base_uri": "https://localhost:8080/"
        },
        "id": "TuWD_Dl3mnuK",
        "outputId": "264f06a1-02f5-4878-e7b6-8cbd3e8d87a5"
      },
      "execution_count": 11,
      "outputs": [
        {
          "output_type": "stream",
          "name": "stdout",
          "text": [
            "{1, 2, 3, 4, 5, 6, 7, 8}\n",
            "{'G', 'A', 'B', 'F', 'C', 'E', 'H', 'D'}\n"
          ]
        }
      ]
    }
  ]
}