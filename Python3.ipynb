{
  "nbformat": 4,
  "nbformat_minor": 0,
  "metadata": {
    "colab": {
      "name": "Python3.ipynb",
      "provenance": [],
      "collapsed_sections": []
    },
    "kernelspec": {
      "name": "python3",
      "display_name": "Python 3"
    },
    "language_info": {
      "name": "python"
    }
  },
  "cells": [
    {
      "cell_type": "code",
      "execution_count": null,
      "metadata": {
        "colab": {
          "base_uri": "https://localhost:8080/"
        },
        "id": "0Ypn_UAjVm8N",
        "outputId": "6ee8fe85-fb52-4780-9ed9-4f041ed2a243"
      },
      "outputs": [
        {
          "output_type": "stream",
          "name": "stdout",
          "text": [
            "True\n",
            "False\n",
            "False\n"
          ]
        }
      ],
      "source": [
        "print(16>10)\n",
        "print(16==10)\n",
        "print(16<10)"
      ]
    },
    {
      "cell_type": "code",
      "source": [
        "a=16\n",
        "b=[]\n",
        "print(bool(a))\n",
        "print(bool(b))   #False because b is empty"
      ],
      "metadata": {
        "colab": {
          "base_uri": "https://localhost:8080/"
        },
        "id": "aA3hycFqXPxg",
        "outputId": "9c8c1a94-0dd1-47bf-cf5a-47a0a6197370"
      },
      "execution_count": null,
      "outputs": [
        {
          "output_type": "stream",
          "name": "stdout",
          "text": [
            "True\n",
            "False\n"
          ]
        }
      ]
    },
    {
      "cell_type": "code",
      "source": [
        "a=100\n",
        "b=10\n",
        "print(a==b)\n",
        "print(a!=b)"
      ],
      "metadata": {
        "colab": {
          "base_uri": "https://localhost:8080/"
        },
        "id": "xD5xqmvhXnq6",
        "outputId": "51f6b901-c383-4477-c87a-813d9ff75eea"
      },
      "execution_count": null,
      "outputs": [
        {
          "output_type": "stream",
          "name": "stdout",
          "text": [
            "False\n",
            "True\n"
          ]
        }
      ]
    },
    {
      "cell_type": "code",
      "source": [
        "x,y=10,16\n",
        "print(x==y)            #equal to\n",
        "print(x!=y)            #not equal to\n",
        "print(x<y)             #less than\n",
        "print(x>y)             #greater than\n",
        "print(x<=y)            #less than or equal to\n",
        "print(x>=y)            #greater than or equal to"
      ],
      "metadata": {
        "colab": {
          "base_uri": "https://localhost:8080/"
        },
        "id": "OZnMhvbMYUxG",
        "outputId": "bf54691e-e8e0-4b83-c6b3-af6c45d31cd0"
      },
      "execution_count": null,
      "outputs": [
        {
          "output_type": "stream",
          "name": "stdout",
          "text": [
            "False\n",
            "True\n",
            "True\n",
            "False\n",
            "True\n",
            "False\n"
          ]
        }
      ]
    },
    {
      "cell_type": "code",
      "source": [
        "#Logical Operators\n",
        "x,y=67,12\n",
        "print(x is y)\n",
        "print(x is not y)"
      ],
      "metadata": {
        "colab": {
          "base_uri": "https://localhost:8080/"
        },
        "id": "Zmy1yc0IY350",
        "outputId": "574b369d-72f2-4636-ce82-298fb21b1dfd"
      },
      "execution_count": null,
      "outputs": [
        {
          "output_type": "stream",
          "name": "stdout",
          "text": [
            "False\n",
            "True\n"
          ]
        }
      ]
    },
    {
      "cell_type": "code",
      "source": [
        "#Membership Operator\n",
        "x=[16,10,67,12,\"Surabhi\",\"Shivani\",\"Juno\"]\n",
        "print(15 in x)\n",
        "print(16 in x)\n",
        "print(15 not in x)"
      ],
      "metadata": {
        "colab": {
          "base_uri": "https://localhost:8080/"
        },
        "id": "86gw5IT4ZwVr",
        "outputId": "00b185a8-2737-4da4-f6ee-8f808547bac5"
      },
      "execution_count": null,
      "outputs": [
        {
          "output_type": "stream",
          "name": "stdout",
          "text": [
            "False\n",
            "True\n",
            "True\n"
          ]
        }
      ]
    },
    {
      "cell_type": "code",
      "source": [
        ""
      ],
      "metadata": {
        "id": "Wb7Guyb-agix"
      },
      "execution_count": null,
      "outputs": []
    }
  ]
}