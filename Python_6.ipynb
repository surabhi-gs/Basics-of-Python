{
  "nbformat": 4,
  "nbformat_minor": 0,
  "metadata": {
    "colab": {
      "name": "Python 6.ipynb",
      "provenance": [],
      "collapsed_sections": []
    },
    "kernelspec": {
      "name": "python3",
      "display_name": "Python 3"
    },
    "language_info": {
      "name": "python"
    }
  },
  "cells": [
    {
      "cell_type": "code",
      "execution_count": null,
      "metadata": {
        "colab": {
          "base_uri": "https://localhost:8080/"
        },
        "id": "29v4jqate81H",
        "outputId": "f5e0569c-35bf-43ba-aa9b-c408d2c2b8c9"
      },
      "outputs": [
        {
          "output_type": "stream",
          "name": "stdout",
          "text": [
            "Hello I'm Surabhi\n"
          ]
        }
      ],
      "source": [
        "def surabhi():\n",
        "  print(\"Hello I'm Surabhi\")\n",
        "surabhi()"
      ]
    },
    {
      "cell_type": "code",
      "source": [
        "def juno(name):\n",
        "  print(name + \"QWERTY\")\n",
        "juno(\"Juno\")"
      ],
      "metadata": {
        "colab": {
          "base_uri": "https://localhost:8080/"
        },
        "id": "z1n6fosOibYo",
        "outputId": "e0e102dc-eda7-4a43-a7a8-4d6182a0ff92"
      },
      "execution_count": null,
      "outputs": [
        {
          "output_type": "stream",
          "name": "stdout",
          "text": [
            "JunoQWERTY\n"
          ]
        }
      ]
    },
    {
      "cell_type": "code",
      "source": [
        "def student_details(Name,Surname):\n",
        "  print(Name + \" \" + Surname + \" : Student of TYBSc Statistics\")\n",
        "student_details(\"Surabhi\",\"Sawaleshwarkar\")"
      ],
      "metadata": {
        "colab": {
          "base_uri": "https://localhost:8080/"
        },
        "id": "IbGKb9ZOjTaX",
        "outputId": "7d30c1b3-b93b-44e9-91fb-b90931de2099"
      },
      "execution_count": null,
      "outputs": [
        {
          "output_type": "stream",
          "name": "stdout",
          "text": [
            "Surabhi Sawaleshwarkar : Student of TYBSc Statistics\n"
          ]
        }
      ]
    },
    {
      "cell_type": "code",
      "source": [
        "def add(a,b):\n",
        "  return a+b\n",
        "add(16,10)"
      ],
      "metadata": {
        "colab": {
          "base_uri": "https://localhost:8080/"
        },
        "id": "wT9L7SY7j5SG",
        "outputId": "f06dbe3d-0cb6-4d94-a994-ddb1a73e4d91"
      },
      "execution_count": null,
      "outputs": [
        {
          "output_type": "execute_result",
          "data": {
            "text/plain": [
              "26"
            ]
          },
          "metadata": {},
          "execution_count": 21
        }
      ]
    },
    {
      "cell_type": "code",
      "source": [
        "def multiply(a,b):\n",
        "  return a*b\n",
        "multiply(16,10)"
      ],
      "metadata": {
        "colab": {
          "base_uri": "https://localhost:8080/"
        },
        "id": "Hj8FH9jekh2G",
        "outputId": "80c28c71-dde2-4947-a206-831716e6baa5"
      },
      "execution_count": null,
      "outputs": [
        {
          "output_type": "execute_result",
          "data": {
            "text/plain": [
              "160"
            ]
          },
          "metadata": {},
          "execution_count": 22
        }
      ]
    },
    {
      "cell_type": "code",
      "source": [
        "def divide(a,b):\n",
        "  return a/b\n",
        "divide(16,10)"
      ],
      "metadata": {
        "colab": {
          "base_uri": "https://localhost:8080/"
        },
        "id": "QImokcFslEna",
        "outputId": "fd88743f-3b41-4551-dbf2-5e49f6095159"
      },
      "execution_count": null,
      "outputs": [
        {
          "output_type": "execute_result",
          "data": {
            "text/plain": [
              "1.6"
            ]
          },
          "metadata": {},
          "execution_count": 23
        }
      ]
    },
    {
      "cell_type": "code",
      "source": [
        "def subtract(a,b):\n",
        "  return a-b\n",
        "subtract(16,10)"
      ],
      "metadata": {
        "colab": {
          "base_uri": "https://localhost:8080/"
        },
        "id": "9JmGSpZVlRsV",
        "outputId": "01acdb80-8791-49f0-c951-4e8ca4d1800f"
      },
      "execution_count": null,
      "outputs": [
        {
          "output_type": "execute_result",
          "data": {
            "text/plain": [
              "6"
            ]
          },
          "metadata": {},
          "execution_count": 24
        }
      ]
    },
    {
      "cell_type": "code",
      "source": [
        "def power(a,b):\n",
        "  print(a**b)\n",
        "power(2,2)\n",
        "power(3,2)\n",
        "power(16,4)"
      ],
      "metadata": {
        "colab": {
          "base_uri": "https://localhost:8080/"
        },
        "id": "UZXyOepCm9C-",
        "outputId": "368ffaa1-552a-4e25-e5ce-f5d57b8d3b8b"
      },
      "execution_count": null,
      "outputs": [
        {
          "output_type": "stream",
          "name": "stdout",
          "text": [
            "4\n",
            "9\n",
            "65536\n"
          ]
        }
      ]
    },
    {
      "cell_type": "code",
      "source": [
        ""
      ],
      "metadata": {
        "id": "blBHc92voqtX"
      },
      "execution_count": null,
      "outputs": []
    }
  ]
}