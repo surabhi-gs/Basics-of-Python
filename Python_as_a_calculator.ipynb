{
  "nbformat": 4,
  "nbformat_minor": 0,
  "metadata": {
    "colab": {
      "name": "Python as a calculator.ipynb",
      "provenance": []
    },
    "kernelspec": {
      "name": "python3",
      "display_name": "Python 3"
    },
    "language_info": {
      "name": "python"
    }
  },
  "cells": [
    {
      "cell_type": "code",
      "execution_count": 1,
      "metadata": {
        "id": "3FnlK3pU-jkw"
      },
      "outputs": [],
      "source": [
        "a=\"Surabhi\"\n",
        "b=3\n",
        "c=\"3\"\n",
        "#3 is a number \n",
        "#\"3\" is a string"
      ]
    },
    {
      "cell_type": "code",
      "source": [
        "22/7"
      ],
      "metadata": {
        "colab": {
          "base_uri": "https://localhost:8080/"
        },
        "id": "0PwpgiIQAMyB",
        "outputId": "e84337a4-0cd1-4ba0-f613-1c362dbf0cae"
      },
      "execution_count": 2,
      "outputs": [
        {
          "output_type": "execute_result",
          "data": {
            "text/plain": [
              "3.142857142857143"
            ]
          },
          "metadata": {},
          "execution_count": 2
        }
      ]
    },
    {
      "cell_type": "code",
      "source": [
        "x,y=16,10\n",
        "print(\"Addition =\",x+y)          \n",
        "print(\"Subtraction =\",x-y)       \n",
        "print(\"Multipication =\",x*y)      \n",
        "print(\"Division =\",x/y)          \n",
        "print(\"Power =\",x**y) \n",
        "print(\"Modulus =\",x%y)            #Remainder\n",
        "print(\"Floor Division =\",x//y)\n",
        "print(\"Square root =\",x**0.5)"
      ],
      "metadata": {
        "colab": {
          "base_uri": "https://localhost:8080/"
        },
        "id": "nNBky2i0AtyL",
        "outputId": "fd65ab11-6823-4287-8f39-f0909ad99ff2"
      },
      "execution_count": 8,
      "outputs": [
        {
          "output_type": "stream",
          "name": "stdout",
          "text": [
            "Addition = 26\n",
            "Subtraction = 6\n",
            "Multipication = 160\n",
            "Division = 1.6\n",
            "Power = 1099511627776\n",
            "Modulus = 6\n",
            "Floor Division = 1\n",
            "Square root = 4.0\n"
          ]
        }
      ]
    },
    {
      "cell_type": "code",
      "source": [
        "a,b=3.143217,7.98214\n",
        "print(\"Addition =\",a+b)           \n",
        "print(\"Subtraction =\",a-b)       \n",
        "print(\"Multipication =\",a*b)      \n",
        "print(\"Division =\",a/b)           \n",
        "print(\"Power =\",a**b) \n",
        "print(\"Modulus =\",a%b)            #Remainder\n",
        "print(\"Floor Division =\",a//b)      "
      ],
      "metadata": {
        "colab": {
          "base_uri": "https://localhost:8080/"
        },
        "id": "HobytWHdBwbW",
        "outputId": "29c5fb67-1c47-472f-8f2a-bd7b8e30a6d8"
      },
      "execution_count": 5,
      "outputs": [
        {
          "output_type": "stream",
          "name": "stdout",
          "text": [
            "Addition = 11.125357000000001\n",
            "Subtraction = -4.838923\n",
            "Multipication = 25.089598144380002\n",
            "Division = 0.3937812416219209\n",
            "Power = 9334.946027084901\n",
            "Modulus = 3.143217\n",
            "Floor Division = 0.0\n"
          ]
        }
      ]
    },
    {
      "cell_type": "code",
      "source": [
        ""
      ],
      "metadata": {
        "id": "HhnpZcsiCiub"
      },
      "execution_count": 8,
      "outputs": []
    }
  ]
}