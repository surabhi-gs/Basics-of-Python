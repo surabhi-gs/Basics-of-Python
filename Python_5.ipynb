{
  "cells": [
    {
      "cell_type": "code",
      "execution_count": null,
      "metadata": {
        "id": "l5M4jeHt85Ou"
      },
      "outputs": [],
      "source": [
        "Name=\"Surabhi Sawaleshwarkar\"\n",
        "Roll_No=\"9130\""
      ]
    },
    {
      "cell_type": "code",
      "execution_count": null,
      "metadata": {
        "colab": {
          "base_uri": "https://localhost:8080/"
        },
        "id": "iv4RG7RhAMs_",
        "outputId": "7171d5b2-1a1f-4bec-dbaf-0815022fa114"
      },
      "outputs": [
        {
          "name": "stdout",
          "output_type": "stream",
          "text": [
            "b is not greater than a\n"
          ]
        }
      ],
      "source": [
        "#if statement\n",
        "a=33\n",
        "b=20\n",
        "if b<a:\n",
        "  print(\"b is not greater than a\")"
      ]
    },
    {
      "cell_type": "code",
      "execution_count": null,
      "metadata": {
        "colab": {
          "base_uri": "https://localhost:8080/"
        },
        "id": "39ZzVp9UBKO2",
        "outputId": "f5a2766a-83ed-4d00-e4ad-18c13f0f12ef"
      },
      "outputs": [
        {
          "name": "stdout",
          "output_type": "stream",
          "text": [
            "a is greater than b\n"
          ]
        }
      ],
      "source": [
        "if a>b:\n",
        "  print(\"a is greater than b\")"
      ]
    },
    {
      "cell_type": "code",
      "execution_count": null,
      "metadata": {
        "colab": {
          "base_uri": "https://localhost:8080/"
        },
        "id": "Sk4ArIq0Ba5I",
        "outputId": "e0e925de-bea7-4baf-b4a2-2b002d3844ac"
      },
      "outputs": [
        {
          "name": "stdout",
          "output_type": "stream",
          "text": [
            "a is greater than or equal to b\n"
          ]
        }
      ],
      "source": [
        "a=10000\n",
        "b=10000\n",
        "if a>=b:\n",
        "  print(\"a is greater than or equal to b\")"
      ]
    },
    {
      "cell_type": "code",
      "execution_count": null,
      "metadata": {
        "colab": {
          "base_uri": "https://localhost:8080/"
        },
        "id": "YOdVtaFyCe9J",
        "outputId": "f43ec271-086c-4ae4-ecc0-9cf8d30458b5"
      },
      "outputs": [
        {
          "name": "stdout",
          "output_type": "stream",
          "text": [
            "Surabhi\n",
            "Juno\n"
          ]
        }
      ],
      "source": [
        "a=16\n",
        "b=12\n",
        "if a>b:\n",
        "  print(\"Surabhi\")\n",
        "print(\"Juno\")"
      ]
    },
    {
      "cell_type": "code",
      "execution_count": null,
      "metadata": {
        "colab": {
          "base_uri": "https://localhost:8080/"
        },
        "id": "Frumcj3EDXSC",
        "outputId": "379f1a89-596e-48ce-b37d-9923ca22ffdb"
      },
      "outputs": [
        {
          "name": "stdout",
          "output_type": "stream",
          "text": [
            "Surabhi\n"
          ]
        }
      ],
      "source": [
        "#if...else statement\n",
        "a=16\n",
        "b=6\n",
        "if a>b:\n",
        "  print(\"Surabhi\")\n",
        "else:\n",
        "  print(\"Juno\")"
      ]
    },
    {
      "cell_type": "code",
      "execution_count": null,
      "metadata": {
        "colab": {
          "base_uri": "https://localhost:8080/"
        },
        "id": "MtFLXN3aDz2J",
        "outputId": "70179a29-1c47-451e-f842-e482dc3870c8"
      },
      "outputs": [
        {
          "name": "stdout",
          "output_type": "stream",
          "text": [
            "Juno\n"
          ]
        }
      ],
      "source": [
        "a=6\n",
        "b=16\n",
        "if a>b:\n",
        "  print(\"Surabhi\")\n",
        "else:\n",
        "  print(\"Juno\")"
      ]
    },
    {
      "cell_type": "code",
      "execution_count": null,
      "metadata": {
        "colab": {
          "base_uri": "https://localhost:8080/"
        },
        "id": "dfEBPdTxD9-q",
        "outputId": "030ef9db-047a-4bcb-f634-0e174c788e13"
      },
      "outputs": [
        {
          "name": "stdout",
          "output_type": "stream",
          "text": [
            "Negative Number\n"
          ]
        }
      ],
      "source": [
        "num=-16\n",
        "if num>0:\n",
        "  print(\"Positive Number\")\n",
        "else:\n",
        "  print(\"Negative Number\")"
      ]
    },
    {
      "cell_type": "code",
      "execution_count": null,
      "metadata": {
        "colab": {
          "base_uri": "https://localhost:8080/"
        },
        "id": "Q2eah6IaEH2s",
        "outputId": "0aa340dc-995f-47bc-f9d4-a2f1e4c7a24d"
      },
      "outputs": [
        {
          "name": "stdout",
          "output_type": "stream",
          "text": [
            "Positive Number\n"
          ]
        }
      ],
      "source": [
        "num=16\n",
        "if num>0:\n",
        "  print(\"Positive Number\")\n",
        "else:\n",
        "  print(\"Negative Number\")"
      ]
    },
    {
      "cell_type": "code",
      "execution_count": null,
      "metadata": {
        "colab": {
          "base_uri": "https://localhost:8080/"
        },
        "id": "2dW6qFEXEXfb",
        "outputId": "3beaf35b-0547-4f56-b60d-1eb03067c9cc"
      },
      "outputs": [
        {
          "name": "stdout",
          "output_type": "stream",
          "text": [
            "Negative Number\n"
          ]
        }
      ],
      "source": [
        "num=-1\n",
        "if num>0:\n",
        " print(\"Positive Number\")\n",
        "elif num==0:\n",
        " print(\"ZERO\")\n",
        "else:\n",
        " print(\"Negative Number\")"
      ]
    },
    {
      "cell_type": "code",
      "execution_count": null,
      "metadata": {
        "colab": {
          "base_uri": "https://localhost:8080/"
        },
        "id": "5XD-75pdHpZK",
        "outputId": "d0e1c1dd-90f1-4ec1-b2df-9c365fd7406f"
      },
      "outputs": [
        {
          "name": "stdout",
          "output_type": "stream",
          "text": [
            "ZERO\n"
          ]
        }
      ],
      "source": [
        "num=0\n",
        "if num>0:\n",
        " print(\"Positive Number\")\n",
        "elif num==0:\n",
        " print(\"ZERO\")\n",
        "else:\n",
        " print(\"Negative Number\")"
      ]
    },
    {
      "cell_type": "code",
      "execution_count": null,
      "metadata": {
        "colab": {
          "base_uri": "https://localhost:8080/"
        },
        "id": "JKj7Ijj-H9Fc",
        "outputId": "45999ced-f48f-4ced-c01a-aea309bb3a61"
      },
      "outputs": [
        {
          "name": "stdout",
          "output_type": "stream",
          "text": [
            "Positive Number\n"
          ]
        }
      ],
      "source": [
        "num=16\n",
        "if num>0:\n",
        " print(\"Positive Number\")\n",
        "elif num==0:\n",
        " print(\"ZERO\")\n",
        "else:\n",
        " print(\"Negative Number\")"
      ]
    },
    {
      "cell_type": "code",
      "execution_count": null,
      "metadata": {
        "colab": {
          "base_uri": "https://localhost:8080/"
        },
        "id": "haKNWDlvK8Kd",
        "outputId": "d2684b4d-66c8-458f-ed6d-fc00ff37abd8"
      },
      "outputs": [
        {
          "name": "stdout",
          "output_type": "stream",
          "text": [
            "90 Science\n",
            "80 Commerce\n",
            "70 Arts\n"
          ]
        }
      ],
      "source": [
        "Marks=[90,80,70]\n",
        "for i in Marks:\n",
        " if i==90:\n",
        "  print(i,\"Science\")\n",
        " elif i==80:\n",
        "  print(i,\"Commerce\")\n",
        " else:\n",
        "  print(i,\"Arts\")"
      ]
    },
    {
      "cell_type": "code",
      "execution_count": null,
      "metadata": {
        "colab": {
          "background_save": true
        },
        "id": "rv0dL6URNJPJ",
        "outputId": "d9beb97b-e517-4de2-9b69-5b7d25ecf28e"
      },
      "outputs": [
        {
          "ename": "IndentationError",
          "evalue": "ignored",
          "output_type": "error",
          "traceback": [
            "\u001b[0;36m  File \u001b[0;32m\"<ipython-input-26-edabcbbc1d0b>\"\u001b[0;36m, line \u001b[0;32m7\u001b[0m\n\u001b[0;31m    print(\"Commerce\")\u001b[0m\n\u001b[0m        ^\u001b[0m\n\u001b[0;31mIndentationError\u001b[0m\u001b[0;31m:\u001b[0m expected an indented block\n"
          ]
        }
      ],
      "source": [
        "Marks=input()\n",
        "if Marks>=90:\n",
        " print(\"Science\")\n",
        "elif Marks<=70:\n",
        " print(\"Arts\")\n",
        "else:\n",
        "print(\"\")"
      ]
    },
    {
      "cell_type": "code",
      "execution_count": null,
      "metadata": {
        "colab": {
          "base_uri": "https://localhost:8080/"
        },
        "id": "KuVkGayKMIEs",
        "outputId": "229cd5bc-ef31-4c36-e7c9-6e335e48956b"
      },
      "outputs": [
        {
          "name": "stdout",
          "output_type": "stream",
          "text": [
            "Positive Number\n"
          ]
        }
      ],
      "source": [
        "#Nested if...else\n",
        "num=1\n",
        "if num>=0:\n",
        " if num==0:\n",
        "  print(\"Zero\")\n",
        " else:\n",
        "  print(\"Positive Number\")\n",
        "else:\n",
        " print(\"Negative Number\")"
      ]
    },
    {
      "cell_type": "code",
      "execution_count": null,
      "metadata": {
        "colab": {
          "base_uri": "https://localhost:8080/"
        },
        "id": "MTn3N-B1M4A2",
        "outputId": "4b7d6e9e-90ae-48d1-8fb6-7baed9f95046"
      },
      "outputs": [
        {
          "name": "stdout",
          "output_type": "stream",
          "text": [
            "Zero\n"
          ]
        }
      ],
      "source": [
        "num=0\n",
        "if num>=0:\n",
        " if num==0:\n",
        "  print(\"Zero\")\n",
        " else:\n",
        "  print(\"Positive Number\")\n",
        "else:\n",
        " print(\"Negative Number\")"
      ]
    },
    {
      "cell_type": "code",
      "execution_count": null,
      "metadata": {
        "colab": {
          "base_uri": "https://localhost:8080/"
        },
        "id": "JGI2d7GtM8sF",
        "outputId": "d72e56a5-d35f-408e-e219-b976c68102d7"
      },
      "outputs": [
        {
          "name": "stdout",
          "output_type": "stream",
          "text": [
            "Negative Number\n"
          ]
        }
      ],
      "source": [
        "num=-16\n",
        "if num>=0:\n",
        " if num==0:\n",
        "  print(\"Zero\")\n",
        " else:\n",
        "  print(\"Positive Number\")\n",
        "else:\n",
        " print(\"Negative Number\")"
      ]
    },
    {
      "cell_type": "code",
      "source": [
        "# Know the Divisional HQ of Districts of various all regions of Maharashtra\n",
        "# Maharashtra State is Mainly Divided in the 5 regions Geographically.\n",
        "#Maharashtra = (\"Kokan, west_Maharashtra, North_Maharashtra, Marathwada, Vidarbh\")\n",
        "city =input()\n",
        "West_Maharashtra = (\"Kolhapur\", \"Pune\", \"Sangli\", \"Satara\", \"Solapur\")\n",
        "North_Maharashtra = (\"Dhule\", \"Jalgaon\",\"Nandurbar\", \"Nashik\",\"Ahmednagar\")\n",
        "Marathwada = (\"Aurangabad\", \"Beed\", \"Jalna\", \"Osmanabad\", \"Nanded\",\"Latur\", \"Parbhani\",\"Hingoli\")\n",
        "Vidarbh = (\"Bhandara\", \"Chandrapur\", \"Gadchiroli\", \"Gondia\", \"Nagpur\", \"Wardha\",\"Akola\", \"Amravati\", \"Buldana\", \"Yavatmal\", \"Washim\")\n",
        "Amravati = (\"Akola\", \"Amravati\", \"Buldana\", \"Yavatmal\", \"Washim\")\n",
        "Kokan = (\"Mumbai City\", \"Mumbai Suburban\", \"Thane\", \"Palghar\", \"Raigad\", \"Ratnagiri\" ,\"Sindhudurg\")\n",
        "if city in Kokan:\n",
        "  print(\"Division HQ is Located in Mumbai\")\n",
        "  elif city in West_Maharashtra:\n",
        "    print(\"Division HQ is Located in Pune\")\n",
        "     elif city in North_Maharashtra:\n",
        "     print(\"Division HQ is Located Nasik\")\n",
        "      elif city in Marathwada:\n",
        "       print(\"Division HQ is Located in Aurangabad\")\n",
        "       elif city in Vidarbh:\n",
        "          print(\"Division HQ is Located in Nagpur\")\n",
        "          elif city in Amravati:\n",
        "           print(\"Division HQ is Located in Amravati\") \n",
        "else:\n",
        "  print(\"City is not in Maharashtra\")\n",
        "    \n"
      ],
      "metadata": {
        "colab": {
          "base_uri": "https://localhost:8080/",
          "height": 134
        },
        "id": "oXcTEdOTTtek",
        "outputId": "b95930f5-a000-4b70-b1c4-6aa2246401cd"
      },
      "execution_count": null,
      "outputs": [
        {
          "output_type": "error",
          "ename": "SyntaxError",
          "evalue": "ignored",
          "traceback": [
            "\u001b[0;36m  File \u001b[0;32m\"<ipython-input-10-6942e5bde5f7>\"\u001b[0;36m, line \u001b[0;32m13\u001b[0m\n\u001b[0;31m    elif city in West_Maharashtra:\u001b[0m\n\u001b[0m       ^\u001b[0m\n\u001b[0;31mSyntaxError\u001b[0m\u001b[0;31m:\u001b[0m invalid syntax\n"
          ]
        }
      ]
    },
    {
      "cell_type": "code",
      "source": [
        "city in Kokan:\n",
        "    print(\"Division HQ is Located in Mumbai\")\n",
        "city in West_Maharashtra:\n",
        "    print(\"Division HQ is Located in Pune\")\n",
        "city in North_Maharashtra:\n",
        "    print(\"Division HQ is Located Nasik\")\n",
        "city in Marathwada:\n",
        "    print(\"Division HQ is Located in Aurangabad\")\n",
        "if city in Vidarbh:\n",
        "    if city in Amravati:\n",
        "        print(\"Division HQ is Located in Amravati\")\n",
        "    else:\n",
        "        print(\"Division HQ is Located in Nagpur\")    \n",
        "#City not is Maharashtra \n",
        "    print(\"City is out of Maharashtra\")"
      ],
      "metadata": {
        "id": "BIBGViViVG7Z"
      },
      "execution_count": null,
      "outputs": []
    }
  ],
  "metadata": {
    "colab": {
      "collapsed_sections": [],
      "name": "Python 5.ipynb",
      "provenance": []
    },
    "kernelspec": {
      "display_name": "Python 3",
      "name": "python3"
    },
    "language_info": {
      "name": "python"
    }
  },
  "nbformat": 4,
  "nbformat_minor": 0
}