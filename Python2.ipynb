{
  "nbformat": 4,
  "nbformat_minor": 0,
  "metadata": {
    "colab": {
      "name": "Python2.ipynb",
      "provenance": [],
      "collapsed_sections": []
    },
    "kernelspec": {
      "name": "python3",
      "display_name": "Python 3"
    },
    "language_info": {
      "name": "python"
    }
  },
  "cells": [
    {
      "cell_type": "code",
      "execution_count": 10,
      "metadata": {
        "id": "n5bdPJHRSKdw"
      },
      "outputs": [],
      "source": [
        "def SGS():\n",
        "  S=\"Surabhi\"\n",
        "  print(\"My name is\",S)\n",
        "  print(S)\n",
        "  \n",
        "  SGS()"
      ]
    },
    {
      "cell_type": "code",
      "source": [
        "def f1():\n",
        "  global y\n",
        "  y=\"ALEXA\"\n",
        "  z=\"SIRI\"\n",
        "  print(y)\n",
        "  print(z)\n",
        "  f1()"
      ],
      "metadata": {
        "id": "vvlTlhIBXHU1"
      },
      "execution_count": 11,
      "outputs": []
    },
    {
      "cell_type": "code",
      "source": [
        "print(y)"
      ],
      "metadata": {
        "colab": {
          "base_uri": "https://localhost:8080/"
        },
        "id": "wJHoUDyIXhyB",
        "outputId": "1a65cf54-c0a3-4167-c7a7-df4997510092"
      },
      "execution_count": 13,
      "outputs": [
        {
          "output_type": "stream",
          "name": "stdout",
          "text": [
            "ALEXA\n"
          ]
        }
      ]
    },
    {
      "cell_type": "code",
      "source": [
        "#Get keywords in Python\n",
        "import keyword\n",
        "print(keyword.kwlist)"
      ],
      "metadata": {
        "colab": {
          "base_uri": "https://localhost:8080/"
        },
        "id": "4hI69mX2Yjsg",
        "outputId": "a3e6a123-e06c-4a26-a1d0-7fcc303d4daa"
      },
      "execution_count": 45,
      "outputs": [
        {
          "output_type": "stream",
          "name": "stdout",
          "text": [
            "['False', 'None', 'True', 'and', 'as', 'assert', 'async', 'await', 'break', 'class', 'continue', 'def', 'del', 'elif', 'else', 'except', 'finally', 'for', 'from', 'global', 'if', 'import', 'in', 'is', 'lambda', 'nonlocal', 'not', 'or', 'pass', 'raise', 'return', 'try', 'while', 'with', 'yield']\n"
          ]
        }
      ]
    },
    {
      "cell_type": "code",
      "source": [
        ""
      ],
      "metadata": {
        "id": "DokCVG2SgKvJ"
      },
      "execution_count": null,
      "outputs": []
    },
    {
      "cell_type": "code",
      "source": [
        "x,y,z=1,2.6,\"Happy Birthday :)\"\n",
        "print(x)\n",
        "print(type(x))\n",
        "print(y)\n",
        "print(type(y))\n",
        "print(z)\n",
        "print(type(z))"
      ],
      "metadata": {
        "colab": {
          "base_uri": "https://localhost:8080/"
        },
        "id": "S5F5ndvtZY86",
        "outputId": "687c8ded-3b09-4259-803f-471b8158e7da"
      },
      "execution_count": 18,
      "outputs": [
        {
          "output_type": "stream",
          "name": "stdout",
          "text": [
            "1\n",
            "<class 'int'>\n",
            "2.6\n",
            "<class 'float'>\n",
            "Happy Birthday :)\n",
            "<class 'str'>\n"
          ]
        }
      ]
    },
    {
      "cell_type": "code",
      "source": [
        "complex(x)"
      ],
      "metadata": {
        "colab": {
          "base_uri": "https://localhost:8080/"
        },
        "id": "ztBnxINPaIth",
        "outputId": "822d218d-fa5c-4bf8-dae1-3d85d4300990"
      },
      "execution_count": 21,
      "outputs": [
        {
          "output_type": "execute_result",
          "data": {
            "text/plain": [
              "(1+0j)"
            ]
          },
          "metadata": {},
          "execution_count": 21
        }
      ]
    },
    {
      "cell_type": "code",
      "source": [
        "float(x)"
      ],
      "metadata": {
        "colab": {
          "base_uri": "https://localhost:8080/"
        },
        "id": "jvBYajosaLgr",
        "outputId": "b61d7678-7841-46bd-b7a1-b9fad67ee645"
      },
      "execution_count": 22,
      "outputs": [
        {
          "output_type": "execute_result",
          "data": {
            "text/plain": [
              "1.0"
            ]
          },
          "metadata": {},
          "execution_count": 22
        }
      ]
    },
    {
      "cell_type": "code",
      "source": [
        "int(y)"
      ],
      "metadata": {
        "colab": {
          "base_uri": "https://localhost:8080/"
        },
        "id": "SoYkjUMXaYwr",
        "outputId": "a5b4e5ce-52dc-4db6-b57a-898cb3380fc7"
      },
      "execution_count": 23,
      "outputs": [
        {
          "output_type": "execute_result",
          "data": {
            "text/plain": [
              "2"
            ]
          },
          "metadata": {},
          "execution_count": 23
        }
      ]
    },
    {
      "cell_type": "code",
      "source": [
        "s=1+6j\n",
        "print(type(s))"
      ],
      "metadata": {
        "colab": {
          "base_uri": "https://localhost:8080/"
        },
        "id": "NoEc4Y4FZ-u0",
        "outputId": "ec9c8db5-4396-4c06-9de5-cce838525179"
      },
      "execution_count": 20,
      "outputs": [
        {
          "output_type": "stream",
          "name": "stdout",
          "text": [
            "<class 'complex'>\n"
          ]
        }
      ]
    },
    {
      "cell_type": "code",
      "source": [
        "\"Sura\"+\"bhi\""
      ],
      "metadata": {
        "colab": {
          "base_uri": "https://localhost:8080/",
          "height": 35
        },
        "id": "Mf8PSlbgbDb0",
        "outputId": "303772a8-5c96-4a8c-e3a9-bbd9dcc89946"
      },
      "execution_count": 26,
      "outputs": [
        {
          "output_type": "execute_result",
          "data": {
            "text/plain": [
              "'Surabhi'"
            ],
            "application/vnd.google.colaboratory.intrinsic+json": {
              "type": "string"
            }
          },
          "metadata": {},
          "execution_count": 26
        }
      ]
    },
    {
      "cell_type": "code",
      "source": [
        "s1=\"Surabhi\"\n",
        "s2=\"Sawaleshwarkar\"\n",
        "name=s1+\" \"+s2\n",
        "print(name)"
      ],
      "metadata": {
        "colab": {
          "base_uri": "https://localhost:8080/"
        },
        "id": "xP00-YuMbH3s",
        "outputId": "42b589fd-02cc-4952-ec9c-b03f0795fee3"
      },
      "execution_count": 27,
      "outputs": [
        {
          "output_type": "stream",
          "name": "stdout",
          "text": [
            "Surabhi Sawaleshwarkar\n"
          ]
        }
      ]
    },
    {
      "cell_type": "code",
      "source": [
        "a=input()\n",
        "a"
      ],
      "metadata": {
        "colab": {
          "base_uri": "https://localhost:8080/",
          "height": 53
        },
        "id": "4Vd62l53bo_a",
        "outputId": "b96e033c-4ea7-435b-ea2c-700039b40503"
      },
      "execution_count": 30,
      "outputs": [
        {
          "name": "stdout",
          "output_type": "stream",
          "text": [
            "\"Happy Birthday :)\"\n"
          ]
        },
        {
          "output_type": "execute_result",
          "data": {
            "text/plain": [
              "'\"Happy Birthday :)\"'"
            ],
            "application/vnd.google.colaboratory.intrinsic+json": {
              "type": "string"
            }
          },
          "metadata": {},
          "execution_count": 30
        }
      ]
    },
    {
      "cell_type": "code",
      "source": [
        "Name=\"Surabhi\"\n",
        "Surname=\"Sawaleshwarkar\"\n",
        "Name+Surname"
      ],
      "metadata": {
        "colab": {
          "base_uri": "https://localhost:8080/",
          "height": 35
        },
        "id": "YdDzw_8Sb_AW",
        "outputId": "0ad576b3-dec4-4909-a5a9-08a38882a396"
      },
      "execution_count": 31,
      "outputs": [
        {
          "output_type": "execute_result",
          "data": {
            "text/plain": [
              "'SurabhiSawaleshwarkar'"
            ],
            "application/vnd.google.colaboratory.intrinsic+json": {
              "type": "string"
            }
          },
          "metadata": {},
          "execution_count": 31
        }
      ]
    },
    {
      "cell_type": "code",
      "source": [
        "a=2.3\n",
        "b=312\n",
        "c=3j"
      ],
      "metadata": {
        "id": "W4EOF3CVcUWE"
      },
      "execution_count": 33,
      "outputs": []
    },
    {
      "cell_type": "code",
      "source": [
        "print(int(a))\n",
        "print(complex(a))\n",
        "print(float(b))\n",
        "print(complex(b))"
      ],
      "metadata": {
        "colab": {
          "base_uri": "https://localhost:8080/"
        },
        "id": "0-jnL_WKcaW7",
        "outputId": "9a1e9a23-630c-48f5-977b-ad9e310bcca2"
      },
      "execution_count": 36,
      "outputs": [
        {
          "output_type": "stream",
          "name": "stdout",
          "text": [
            "2\n",
            "(2.3+0j)\n",
            "312.0\n",
            "(312+0j)\n"
          ]
        }
      ]
    },
    {
      "cell_type": "code",
      "source": [
        "int(c)\n",
        "#cannot convert complex to integer or float"
      ],
      "metadata": {
        "colab": {
          "base_uri": "https://localhost:8080/",
          "height": 166
        },
        "id": "sQ-8as3Lcai3",
        "outputId": "8194c873-edf3-4297-ddbb-d10c19c3401d"
      },
      "execution_count": 37,
      "outputs": [
        {
          "output_type": "error",
          "ename": "TypeError",
          "evalue": "ignored",
          "traceback": [
            "\u001b[0;31m---------------------------------------------------------------------------\u001b[0m",
            "\u001b[0;31mTypeError\u001b[0m                                 Traceback (most recent call last)",
            "\u001b[0;32m<ipython-input-37-089eb950f64f>\u001b[0m in \u001b[0;36m<module>\u001b[0;34m()\u001b[0m\n\u001b[0;32m----> 1\u001b[0;31m \u001b[0mint\u001b[0m\u001b[0;34m(\u001b[0m\u001b[0mc\u001b[0m\u001b[0;34m)\u001b[0m\u001b[0;34m\u001b[0m\u001b[0;34m\u001b[0m\u001b[0m\n\u001b[0m",
            "\u001b[0;31mTypeError\u001b[0m: can't convert complex to int"
          ]
        }
      ]
    },
    {
      "cell_type": "code",
      "source": [
        "p=\"How are you?\"\n",
        "print(p.strip())\n",
        "print(p.lower())\n",
        "print(p.upper())\n",
        "print(p.replace(\"o\",\"j\"))\n",
        "print(p.split(\"o\"))"
      ],
      "metadata": {
        "colab": {
          "base_uri": "https://localhost:8080/"
        },
        "id": "XdzX_D3FgMUf",
        "outputId": "8721084b-0153-4b52-a2a2-17e7a6d29289"
      },
      "execution_count": 46,
      "outputs": [
        {
          "output_type": "stream",
          "name": "stdout",
          "text": [
            "How are you?\n",
            "how are you?\n",
            "HOW ARE YOU?\n",
            "Hjw are yju?\n",
            "['H', 'w are y', 'u?']\n"
          ]
        }
      ]
    },
    {
      "cell_type": "code",
      "source": [
        "age=20\n",
        "txt=\"My name is Surabhi and I am {} years old\"\n",
        "print(txt.format(age))"
      ],
      "metadata": {
        "colab": {
          "base_uri": "https://localhost:8080/"
        },
        "id": "pDLqgAY7hPXR",
        "outputId": "f1147fdc-7559-47ee-9cdd-b0ea5fb8c677"
      },
      "execution_count": 48,
      "outputs": [
        {
          "output_type": "stream",
          "name": "stdout",
          "text": [
            "My name is Surabhi and I am 20 years old\n"
          ]
        }
      ]
    },
    {
      "cell_type": "code",
      "source": [
        "quantity=3\n",
        "item=\"Bread\"\n",
        "price=5\n",
        "myorder=\"I want {} pieces of {} for {} rupees.\"\n",
        "print(myorder.format(quantity,item,price))"
      ],
      "metadata": {
        "colab": {
          "base_uri": "https://localhost:8080/"
        },
        "id": "c7L2Kejzhn5X",
        "outputId": "34408c13-ebd1-492c-dda7-3d9974913767"
      },
      "execution_count": 50,
      "outputs": [
        {
          "output_type": "stream",
          "name": "stdout",
          "text": [
            "I want 3 pieces of Bread for 5 rupees.\n"
          ]
        }
      ]
    },
    {
      "cell_type": "code",
      "source": [
        "name=input()\n",
        "age=input()\n",
        "Class=input()\n",
        "college=input()\n",
        "\"My name is {}. I am {} years old. I am in {} at {}\".format(name,age,Class,college)"
      ],
      "metadata": {
        "colab": {
          "base_uri": "https://localhost:8080/",
          "height": 105
        },
        "id": "_LU9QUFpivhm",
        "outputId": "c64c6fe7-b9f3-4c50-ca91-40466f704f26"
      },
      "execution_count": 54,
      "outputs": [
        {
          "name": "stdout",
          "output_type": "stream",
          "text": [
            "Surabhi\n",
            "20\n",
            "TYBSc\n",
            "SP College, Pune\n"
          ]
        },
        {
          "output_type": "execute_result",
          "data": {
            "text/plain": [
              "'My name is Surabhi. I am 20 years old. I am in TYBSc at SP College, Pune'"
            ],
            "application/vnd.google.colaboratory.intrinsic+json": {
              "type": "string"
            }
          },
          "metadata": {},
          "execution_count": 54
        }
      ]
    },
    {
      "cell_type": "code",
      "source": [
        "quantity=3\n",
        "item=\"Bread\"\n",
        "price=5\n",
        "myorder=\"I want {a} pieces of {b} for {c} rupees.\"\n",
        "print(myorder.format(a=quantity,b=item,c=price))"
      ],
      "metadata": {
        "colab": {
          "base_uri": "https://localhost:8080/"
        },
        "id": "6vNPNoujljPr",
        "outputId": "98364491-c4c8-4bf4-ae54-7063126955d9"
      },
      "execution_count": 61,
      "outputs": [
        {
          "output_type": "stream",
          "name": "stdout",
          "text": [
            "I want 3 pieces of Bread for 5 rupees.\n"
          ]
        }
      ]
    }
  ]
}