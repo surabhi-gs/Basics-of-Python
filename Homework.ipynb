{
  "nbformat": 4,
  "nbformat_minor": 0,
  "metadata": {
    "colab": {
      "name": "Homework.ipynb",
      "provenance": []
    },
    "kernelspec": {
      "name": "python3",
      "display_name": "Python 3"
    },
    "language_info": {
      "name": "python"
    }
  },
  "cells": [
    {
      "cell_type": "code",
      "execution_count": 1,
      "metadata": {
        "colab": {
          "base_uri": "https://localhost:8080/"
        },
        "id": "OqyNRYLCRPj9",
        "outputId": "50afef42-9e78-438c-b6fa-fde836d6a25e"
      },
      "outputs": [
        {
          "output_type": "stream",
          "name": "stdout",
          "text": [
            "23\n",
            "It is a 2 digit odd number\n"
          ]
        }
      ],
      "source": [
        "b=int(input())\n",
        "c=b%2\n",
        "if c==1:\n",
        "  if b>10:\n",
        "    print(\"It is a 2 digit odd number\")\n",
        "  elif b<10:\n",
        "    print(\"It is a single digit odd number\")\n",
        "else:\n",
        "  print(\"It is an even number\")"
      ]
    },
    {
      "cell_type": "code",
      "source": [
        "b=int(input())\n",
        "c=b%2\n",
        "if c==1:\n",
        "  if b>10:\n",
        "    print(\"It is a 2 digit odd number\")\n",
        "  elif b<10:\n",
        "    print(\"It is a single digit odd number\")\n",
        "else:\n",
        "  print(\"It is an even number\")"
      ],
      "metadata": {
        "colab": {
          "base_uri": "https://localhost:8080/"
        },
        "id": "1hfLvOQrX-CP",
        "outputId": "fd2692d6-f7eb-49b0-ee82-ac309c32c2e3"
      },
      "execution_count": 2,
      "outputs": [
        {
          "output_type": "stream",
          "name": "stdout",
          "text": [
            "16\n",
            "It is an even number\n"
          ]
        }
      ]
    },
    {
      "cell_type": "code",
      "source": [
        "b=int(input())\n",
        "c=b%2\n",
        "if c==1:\n",
        "  if b>10:\n",
        "    print(\"It is a 2 digit odd number\")\n",
        "  elif b<10:\n",
        "    print(\"It is a single digit odd number\")\n",
        "else:\n",
        "  print(\"It is an even number\")"
      ],
      "metadata": {
        "colab": {
          "base_uri": "https://localhost:8080/"
        },
        "id": "qttg-asuYOg_",
        "outputId": "41f5deb6-7fb0-4f63-ed33-76297debef16"
      },
      "execution_count": 3,
      "outputs": [
        {
          "output_type": "stream",
          "name": "stdout",
          "text": [
            "5\n",
            "It is a single digit odd number\n"
          ]
        }
      ]
    }
  ]
}