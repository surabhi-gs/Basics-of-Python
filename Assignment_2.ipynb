{
  "nbformat": 4,
  "nbformat_minor": 0,
  "metadata": {
    "colab": {
      "name": "Assignment 2.ipynb",
      "provenance": []
    },
    "kernelspec": {
      "name": "python3",
      "display_name": "Python 3"
    },
    "language_info": {
      "name": "python"
    }
  },
  "cells": [
    {
      "cell_type": "markdown",
      "source": [
        "**Name : Surabhi Ganesh Sawaleshwarkar                       \n",
        "Roll No. : 9130**"
      ],
      "metadata": {
        "id": "IgctKSgpgqo0"
      }
    },
    {
      "cell_type": "markdown",
      "source": [
        "Q.1. Write a Python User Define Function to reverse a string."
      ],
      "metadata": {
        "id": "koaTQ8q8O4tx"
      }
    },
    {
      "cell_type": "code",
      "source": [
        "#Solution:\n",
        "def reverse(a):\n",
        "  str=\"\"\n",
        "  for i in a:\n",
        "    str=i+str\n",
        "  return str  "
      ],
      "metadata": {
        "id": "HOjp0jzQO7oL"
      },
      "execution_count": 1,
      "outputs": []
    },
    {
      "cell_type": "code",
      "source": [
        "reverse(\"python\")"
      ],
      "metadata": {
        "colab": {
          "base_uri": "https://localhost:8080/",
          "height": 35
        },
        "id": "Mr1NGGrSPqwA",
        "outputId": "48d26455-5529-4ca7-8ded-b3006783381a"
      },
      "execution_count": 2,
      "outputs": [
        {
          "output_type": "execute_result",
          "data": {
            "text/plain": [
              "'nohtyp'"
            ],
            "application/vnd.google.colaboratory.intrinsic+json": {
              "type": "string"
            }
          },
          "metadata": {},
          "execution_count": 2
        }
      ]
    },
    {
      "cell_type": "markdown",
      "source": [
        "Q.2. Write a Python min_max function which will return Min, Max of 4 inputs from the user."
      ],
      "metadata": {
        "id": "lMu4aqA-QcaJ"
      }
    },
    {
      "cell_type": "code",
      "source": [
        "#Solution:\n",
        "def min_max(a,b,c,d):\n",
        "  print(\"The minimum of the numbers is:\",end=\"\")\n",
        "  print(min(a,b,c,d))\n",
        "  print(\"The maximum of the numbers is:\",end=\"\")\n",
        "  print(max(a,b,c,d))"
      ],
      "metadata": {
        "id": "KZ0NwY1BQgpS"
      },
      "execution_count": 3,
      "outputs": []
    },
    {
      "cell_type": "code",
      "source": [
        "min_max(16,4,20,12)"
      ],
      "metadata": {
        "colab": {
          "base_uri": "https://localhost:8080/"
        },
        "id": "gspZrOUZQ9g3",
        "outputId": "ffbdb798-d234-4ee4-a698-c0bde6b52590"
      },
      "execution_count": 4,
      "outputs": [
        {
          "output_type": "stream",
          "name": "stdout",
          "text": [
            "The minimum of the numbers is:4\n",
            "The maximum of the numbers is:20\n"
          ]
        }
      ]
    },
    {
      "cell_type": "code",
      "source": [
        "min_max(13,12,19,89)"
      ],
      "metadata": {
        "colab": {
          "base_uri": "https://localhost:8080/"
        },
        "id": "9cC6NO38RsLA",
        "outputId": "7fd129d8-d57e-4e20-b992-9f8d8bd9f5f6"
      },
      "execution_count": 5,
      "outputs": [
        {
          "output_type": "stream",
          "name": "stdout",
          "text": [
            "The minimum of the numbers is:12\n",
            "The maximum of the numbers is:89\n"
          ]
        }
      ]
    },
    {
      "cell_type": "markdown",
      "source": [
        "Q.3. Write a Python function to sum 4 inputs from the user."
      ],
      "metadata": {
        "id": "uzmZndB4Rfqm"
      }
    },
    {
      "cell_type": "code",
      "source": [
        "#Solution:\n",
        "def sum(a,b,c,d):\n",
        "  print(a+b+c+d)"
      ],
      "metadata": {
        "id": "CNxLllu1Rj7R"
      },
      "execution_count": 6,
      "outputs": []
    },
    {
      "cell_type": "code",
      "source": [
        "sum(1,2,3,4)"
      ],
      "metadata": {
        "colab": {
          "base_uri": "https://localhost:8080/"
        },
        "id": "PHaQswOrRyzw",
        "outputId": "18130f51-92f9-474e-c125-796b7c03413e"
      },
      "execution_count": 7,
      "outputs": [
        {
          "output_type": "stream",
          "name": "stdout",
          "text": [
            "10\n"
          ]
        }
      ]
    },
    {
      "cell_type": "code",
      "source": [
        "sum(10,12,14,16)"
      ],
      "metadata": {
        "colab": {
          "base_uri": "https://localhost:8080/"
        },
        "id": "gC9O8r3mR1Pr",
        "outputId": "759f1a1c-0fe8-49e7-dea6-bef150994294"
      },
      "execution_count": 8,
      "outputs": [
        {
          "output_type": "stream",
          "name": "stdout",
          "text": [
            "52\n"
          ]
        }
      ]
    },
    {
      "cell_type": "markdown",
      "source": [
        "Q.4. Find out the Command which will return you number of local variables from the user define function."
      ],
      "metadata": {
        "id": "LGOJmUhmSDcz"
      }
    },
    {
      "cell_type": "code",
      "source": [
        "#Solution:\n",
        "def xyz():\n",
        "  a=16\n",
        "  b=\"Surabhi\""
      ],
      "metadata": {
        "id": "Hbm_60paSHnK"
      },
      "execution_count": 9,
      "outputs": []
    },
    {
      "cell_type": "code",
      "source": [
        "print(xyz.__code__.co_nlocals)"
      ],
      "metadata": {
        "colab": {
          "base_uri": "https://localhost:8080/"
        },
        "id": "0W1KGz1tUie-",
        "outputId": "3247eae5-a556-40c0-e529-7dfb7ae802d1"
      },
      "execution_count": 10,
      "outputs": [
        {
          "output_type": "stream",
          "name": "stdout",
          "text": [
            "2\n"
          ]
        }
      ]
    },
    {
      "cell_type": "markdown",
      "source": [
        "Q.5. Write Python Function to get even number from the list. List length must be equal to 8."
      ],
      "metadata": {
        "id": "YpG94rhbSaWb"
      }
    },
    {
      "cell_type": "code",
      "source": [
        "#Solution:\n",
        "list=[1,2,3,4,5,6,7,8]\n",
        "for i in list:\n",
        "  if i % 2 == 0:\n",
        "    print(i)"
      ],
      "metadata": {
        "colab": {
          "base_uri": "https://localhost:8080/"
        },
        "id": "PwMT8NdeSeiP",
        "outputId": "d9243ece-6bd8-4a69-d757-0937347f5f67"
      },
      "execution_count": 11,
      "outputs": [
        {
          "output_type": "stream",
          "name": "stdout",
          "text": [
            "2\n",
            "4\n",
            "6\n",
            "8\n"
          ]
        }
      ]
    }
  ]
}